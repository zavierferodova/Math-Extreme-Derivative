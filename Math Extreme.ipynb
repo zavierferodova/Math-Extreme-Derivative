{
 "cells": [
  {
   "cell_type": "code",
   "execution_count": 44,
   "metadata": {},
   "outputs": [],
   "source": [
    "import sympy as sym\n",
    "import numpy as np\n",
    "import pandas as pd\n",
    "\n",
    "def simple_extremtype(value):\n",
    "    if(value < 0):\n",
    "        return 'Minimum'\n",
    "    elif(value > 0):\n",
    "        return 'Maksimum'\n",
    "    else:\n",
    "        return 'Stasioner'\n",
    "\n",
    "def calcexpr(expression, symbol, params):\n",
    "    exp = expbuilder(expression, symbol)\n",
    "    exp = exp.replace(symbol, str(params))\n",
    "    return eval(exp)\n",
    "\n",
    "def linearequo(expression, symbol):\n",
    "    exp = expression\n",
    "    symb = sym.Symbol(symbol)\n",
    "    return sym.solve(exp, symb)\n",
    "\n",
    "def expbuilder(expression, symbol):\n",
    "    exp = expression.replace('^', '**')\n",
    "    exp = exp.replace(symbol, \"*({})\".format(symbol))\n",
    "    return str(exp)\n",
    "\n",
    "def derivative(expression, symbol):\n",
    "    exp = expbuilder(expression, symbol)\n",
    "    symb = sym.symbols(symbol)\n",
    "    return sym.diff(exp, symb)"
   ]
  },
  {
   "cell_type": "markdown",
   "metadata": {},
   "source": [
    "# Input Expression dan Symbol"
   ]
  },
  {
   "cell_type": "code",
   "execution_count": 45,
   "metadata": {},
   "outputs": [],
   "source": [
    "expression = '1/3x^3 - 1x^2 - 3x + 2'\n",
    "symbol = 'x'\n",
    "param_range = range(-2, 3)"
   ]
  },
  {
   "cell_type": "markdown",
   "metadata": {},
   "source": [
    "# Turunan Pertama"
   ]
  },
  {
   "cell_type": "code",
   "execution_count": 46,
   "metadata": {},
   "outputs": [
    {
     "data": {
      "text/latex": [
       "$\\displaystyle x^{2} - 2 x - 3$"
      ],
      "text/plain": [
       "x**2 - 2*x - 3"
      ]
     },
     "execution_count": 46,
     "metadata": {},
     "output_type": "execute_result"
    }
   ],
   "source": [
    "drv_one = derivative(expression, symbol)\n",
    "drv_one"
   ]
  },
  {
   "cell_type": "markdown",
   "metadata": {},
   "source": [
    "# Titik stasioner f`(x) = 0"
   ]
  },
  {
   "cell_type": "code",
   "execution_count": 47,
   "metadata": {},
   "outputs": [
    {
     "data": {
      "text/plain": [
       "[-1, 3]"
      ]
     },
     "execution_count": 47,
     "metadata": {},
     "output_type": "execute_result"
    }
   ],
   "source": [
    "drv_lineq = linearequo(drv_one, symbol)\n",
    "drv_lineq"
   ]
  },
  {
   "cell_type": "markdown",
   "metadata": {},
   "source": [
    "# Nilai Stasioner"
   ]
  },
  {
   "cell_type": "code",
   "execution_count": 48,
   "metadata": {},
   "outputs": [
    {
     "data": {
      "text/plain": [
       "[3.666666666666667, -7.0]"
      ]
     },
     "execution_count": 48,
     "metadata": {},
     "output_type": "execute_result"
    }
   ],
   "source": [
    "stas_val = [calcexpr(expression, symbol, i) for i in drv_lineq]\n",
    "stas_val"
   ]
  },
  {
   "cell_type": "markdown",
   "metadata": {},
   "source": [
    "# Daftar Koordinat Stasioner"
   ]
  },
  {
   "cell_type": "code",
   "execution_count": 49,
   "metadata": {},
   "outputs": [
    {
     "data": {
      "text/html": [
       "<div>\n",
       "<style scoped>\n",
       "    .dataframe tbody tr th:only-of-type {\n",
       "        vertical-align: middle;\n",
       "    }\n",
       "\n",
       "    .dataframe tbody tr th {\n",
       "        vertical-align: top;\n",
       "    }\n",
       "\n",
       "    .dataframe thead th {\n",
       "        text-align: right;\n",
       "    }\n",
       "</style>\n",
       "<table border=\"1\" class=\"dataframe\">\n",
       "  <thead>\n",
       "    <tr style=\"text-align: right;\">\n",
       "      <th></th>\n",
       "      <th>Titik</th>\n",
       "      <th>Nilai</th>\n",
       "      <th>Jenis Ekstrim</th>\n",
       "    </tr>\n",
       "  </thead>\n",
       "  <tbody>\n",
       "    <tr>\n",
       "      <th>0</th>\n",
       "      <td>-1</td>\n",
       "      <td>3.66667</td>\n",
       "      <td>Maksimum</td>\n",
       "    </tr>\n",
       "    <tr>\n",
       "      <th>1</th>\n",
       "      <td>3</td>\n",
       "      <td>-7</td>\n",
       "      <td>Minimum</td>\n",
       "    </tr>\n",
       "  </tbody>\n",
       "</table>\n",
       "</div>"
      ],
      "text/plain": [
       "  Titik    Nilai Jenis Ekstrim\n",
       "0    -1  3.66667      Maksimum\n",
       "1     3       -7       Minimum"
      ]
     },
     "execution_count": 49,
     "metadata": {},
     "output_type": "execute_result"
    }
   ],
   "source": [
    "extreme_type = [simple_extremtype(i) for i in stas_val]\n",
    "list_coordinate = np.stack((drv_lineq, stas_val, extreme_type), axis=1)\n",
    "\n",
    "columns = ['Titik', 'Nilai', 'Jenis Ekstrim']\n",
    "pd.DataFrame(list_coordinate, columns=columns)"
   ]
  },
  {
   "cell_type": "markdown",
   "metadata": {},
   "source": [
    "# Daftar Koordinat dengan Range"
   ]
  },
  {
   "cell_type": "code",
   "execution_count": 50,
   "metadata": {},
   "outputs": [
    {
     "data": {
      "text/html": [
       "<div>\n",
       "<style scoped>\n",
       "    .dataframe tbody tr th:only-of-type {\n",
       "        vertical-align: middle;\n",
       "    }\n",
       "\n",
       "    .dataframe tbody tr th {\n",
       "        vertical-align: top;\n",
       "    }\n",
       "\n",
       "    .dataframe thead th {\n",
       "        text-align: right;\n",
       "    }\n",
       "</style>\n",
       "<table border=\"1\" class=\"dataframe\">\n",
       "  <thead>\n",
       "    <tr style=\"text-align: right;\">\n",
       "      <th></th>\n",
       "      <th>Titik</th>\n",
       "      <th>Nilai</th>\n",
       "    </tr>\n",
       "  </thead>\n",
       "  <tbody>\n",
       "    <tr>\n",
       "      <th>0</th>\n",
       "      <td>-2.0</td>\n",
       "      <td>1.333333</td>\n",
       "    </tr>\n",
       "    <tr>\n",
       "      <th>1</th>\n",
       "      <td>-1.0</td>\n",
       "      <td>3.666667</td>\n",
       "    </tr>\n",
       "    <tr>\n",
       "      <th>2</th>\n",
       "      <td>0.0</td>\n",
       "      <td>2.000000</td>\n",
       "    </tr>\n",
       "    <tr>\n",
       "      <th>3</th>\n",
       "      <td>1.0</td>\n",
       "      <td>-1.666667</td>\n",
       "    </tr>\n",
       "    <tr>\n",
       "      <th>4</th>\n",
       "      <td>2.0</td>\n",
       "      <td>-5.333333</td>\n",
       "    </tr>\n",
       "  </tbody>\n",
       "</table>\n",
       "</div>"
      ],
      "text/plain": [
       "   Titik     Nilai\n",
       "0   -2.0  1.333333\n",
       "1   -1.0  3.666667\n",
       "2    0.0  2.000000\n",
       "3    1.0 -1.666667\n",
       "4    2.0 -5.333333"
      ]
     },
     "execution_count": 50,
     "metadata": {},
     "output_type": "execute_result"
    }
   ],
   "source": [
    "exp_val = [calcexpr(expression, symbol, i) for i in param_range]\n",
    "list_coordinate = np.stack((param_range, exp_val), axis=1)\n",
    "\n",
    "columns = ['Titik', 'Nilai']\n",
    "pd.DataFrame(list_coordinate, columns=columns)"
   ]
  },
  {
   "cell_type": "markdown",
   "metadata": {},
   "source": [
    "# Grafik Koordinat dengan Range"
   ]
  },
  {
   "cell_type": "code",
   "execution_count": 51,
   "metadata": {},
   "outputs": [
    {
     "data": {
      "image/png": "[encoded data removed]",
      "text/plain": [
       "<Figure size 1080x576 with 1 Axes>"
      ]
     },
     "metadata": {
      "needs_background": "light"
     },
     "output_type": "display_data"
    }
   ],
   "source": [
    "import matplotlib.pyplot as plt\n",
    "\n",
    "plt.figure(figsize=(15, 8))\n",
    "plt.scatter(param_range, exp_val)\n",
    "plt.plot(param_range, exp_val)\n",
    "plt.ylabel('Nilai Hasil')\n",
    "plt.xlabel('Titik x')\n",
    "plt.show()"
   ]
  }
 ],
 "metadata": {
  "kernelspec": {
   "display_name": "Python 3",
   "language": "python",
   "name": "python3"
  },
  "language_info": {
   "codemirror_mode": {
    "name": "ipython",
    "version": 3
   },
   "file_extension": ".py",
   "mimetype": "text/x-python",
   "name": "python",
   "nbconvert_exporter": "python",
   "pygments_lexer": "ipython3",
   "version": "3.8.5"
  }
 },
 "nbformat": 4,
 "nbformat_minor": 4
}

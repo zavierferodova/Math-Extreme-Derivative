{
 "cells": [
  {
   "cell_type": "code",
   "execution_count": 31,
   "metadata": {},
   "outputs": [],
   "source": [
    "import sympy as sym\n",
    "\n",
    "def expbuilder(expression, symbol):\n",
    "    exp = expression.replace('^', '**')\n",
    "    exp = exp.replace(symbol, \"*({})\".format(symbol))\n",
    "    return str(exp)\n",
    "\n",
    "def derivative(expression, symbol):\n",
    "    exp = expbuilder(expression, symbol)\n",
    "    symb = sym.symbols(symbol)\n",
    "    return sym.diff(exp, symb)"
   ]
  },
  {
   "cell_type": "code",
   "execution_count": 33,
   "metadata": {},
   "outputs": [
    {
     "data": {
      "text/latex": [
       "$\\displaystyle x^{2} - 9$"
      ],
      "text/plain": [
       "x**2 - 9"
      ]
     },
     "execution_count": 33,
     "metadata": {},
     "output_type": "execute_result"
    }
   ],
   "source": [
    "expression = '1/3x^3 - 9x'\n",
    "symbol = 'x'\n",
    "\n",
    "derivative(expression, symbol)"
   ]
  },
  {
   "cell_type": "code",
   "execution_count": null,
   "metadata": {},
   "outputs": [],
   "source": []
  }
 ],
 "metadata": {
  "kernelspec": {
   "display_name": "Python 3",
   "language": "python",
   "name": "python3"
  },
  "language_info": {
   "codemirror_mode": {
    "name": "ipython",
    "version": 3
   },
   "file_extension": ".py",
   "mimetype": "text/x-python",
   "name": "python",
   "nbconvert_exporter": "python",
   "pygments_lexer": "ipython3",
   "version": "3.8.5"
  }
 },
 "nbformat": 4,
 "nbformat_minor": 4
}
